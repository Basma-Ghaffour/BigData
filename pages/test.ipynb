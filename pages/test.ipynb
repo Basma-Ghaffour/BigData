{
 "cells": [
  {
   "cell_type": "code",
   "execution_count": 1,
   "metadata": {},
   "outputs": [],
   "source": [
    "import pandas as pd"
   ]
  },
  {
   "cell_type": "code",
   "execution_count": 4,
   "metadata": {},
   "outputs": [
    {
     "name": "stdout",
     "output_type": "stream",
     "text": [
      "Chemin actuel: c:\\Users\\basma\\Desktop\\Master 2\\semestre 2\\Projet_Big_Data2\\AppStremlit\\pages\n",
      "Répertoire parent: c:\\Users\\basma\\Desktop\\Master 2\\semestre 2\\Projet_Big_Data2\\AppStremlit\n"
     ]
    }
   ],
   "source": [
    "chemin_actuel = os.getcwd()\n",
    "print(\"Chemin actuel:\", chemin_actuel)\n",
    "\n",
    "# Chemin du répertoire parent\n",
    "repertoire_parent = os.path.dirname(chemin_actuel)\n",
    "print(\"Répertoire parent:\", repertoire_parent)\n"
   ]
  },
  {
   "cell_type": "code",
   "execution_count": 5,
   "metadata": {},
   "outputs": [
    {
     "name": "stdout",
     "output_type": "stream",
     "text": [
      "Contenu du répertoire parent: ['.git', '.mypy_cache', 'Application_Big_Data.py', 'pages', 'pyproject.toml', 'Scrapping']\n"
     ]
    }
   ],
   "source": [
    "contenu_repertoire_parent = os.listdir(repertoire_parent)\n",
    "\n",
    "print(\"Contenu du répertoire parent:\", contenu_repertoire_parent)"
   ]
  },
  {
   "cell_type": "code",
   "execution_count": 6,
   "metadata": {},
   "outputs": [
    {
     "name": "stdout",
     "output_type": "stream",
     "text": [
      "Contenu du répertoire 'Scrapping': ['data_2_all_movie.json', 'data_commentaire_prov.json', 'image']\n"
     ]
    }
   ],
   "source": [
    "nom_repertoire = \"Scrapping\"\n",
    "\n",
    "# Chemin complet du répertoire à lister\n",
    "chemin_repertoire = os.path.join(repertoire_parent, nom_repertoire)\n",
    "\n",
    "# Liste des fichiers et répertoires dans le répertoire \"Scrapping\"\n",
    "contenu_repertoire_scrapping = os.listdir(chemin_repertoire)\n",
    "\n",
    "print(\"Contenu du répertoire 'Scrapping':\", contenu_repertoire_scrapping)"
   ]
  },
  {
   "cell_type": "code",
   "execution_count": 8,
   "metadata": {},
   "outputs": [
    {
     "name": "stdout",
     "output_type": "stream",
     "text": [
      "c:\\Users\\basma\\Desktop\\Master 2\\semestre 2\\Projet_Big_Data2\\AppStremlit\\Scrapping\\data_2_all_movie.json\n"
     ]
    }
   ],
   "source": [
    "repertoire_parent = os.path.dirname(os.getcwd())\n",
    "\n",
    "# Nom du répertoire à ajouter\n",
    "nom_repertoire = \"Scrapping\"\n",
    "\n",
    "# Nom du fichier à vérifier\n",
    "nom_fichier = \"data_2_all_movie.json\"\n",
    "\n",
    "# Chemin complet du répertoire \"Scrapping\"\n",
    "chemin_repertoire_scrapping = os.path.join(repertoire_parent, nom_repertoire)\n",
    "\n",
    "# Chemin complet du fichier\n",
    "chemin_fichier = os.path.join(chemin_repertoire_scrapping, nom_fichier)\n",
    "\n",
    "print(chemin_fichier)"
   ]
  },
  {
   "cell_type": "code",
   "execution_count": 10,
   "metadata": {},
   "outputs": [
    {
     "ename": "NameError",
     "evalue": "name '__file__' is not defined",
     "output_type": "error",
     "traceback": [
      "\u001b[1;31m---------------------------------------------------------------------------\u001b[0m",
      "\u001b[1;31mNameError\u001b[0m                                 Traceback (most recent call last)",
      "Cell \u001b[1;32mIn[10], line 1\u001b[0m\n\u001b[1;32m----> 1\u001b[0m repertoire_base \u001b[38;5;241m=\u001b[39m os\u001b[38;5;241m.\u001b[39mpath\u001b[38;5;241m.\u001b[39mdirname(\u001b[38;5;18;43m__file__\u001b[39;49m)\n\u001b[0;32m      3\u001b[0m \u001b[38;5;66;03m# Chemin relatif du répertoire \"Scrapping\"\u001b[39;00m\n\u001b[0;32m      4\u001b[0m chemin_repertoire_scrapping \u001b[38;5;241m=\u001b[39m os\u001b[38;5;241m.\u001b[39mpath\u001b[38;5;241m.\u001b[39mjoin(repertoire_base, \u001b[38;5;124m\"\u001b[39m\u001b[38;5;124mScrapping\u001b[39m\u001b[38;5;124m\"\u001b[39m)\n",
      "\u001b[1;31mNameError\u001b[0m: name '__file__' is not defined"
     ]
    }
   ],
   "source": [
    "repertoire_base = os.path.dirname(__file__)\n",
    "\n",
    "# Chemin relatif du répertoire \"Scrapping\"\n",
    "chemin_repertoire_scrapping = os.path.join(repertoire_base, \"Scrapping\")\n",
    "\n",
    "# Chemin relatif du fichier\n",
    "chemin_fichier = os.path.join(chemin_repertoire_scrapping, \"data_2_all_movie.json\")"
   ]
  },
  {
   "cell_type": "code",
   "execution_count": 11,
   "metadata": {},
   "outputs": [],
   "source": [
    "import os\n",
    "\n",
    "# Obtenez le répertoire de travail actuel\n",
    "repertoire_base = os.getcwd()\n",
    "\n",
    "# Chemin relatif du répertoire \"Scrapping\"\n",
    "chemin_repertoire_scrapping = os.path.join(repertoire_base, \"Scrapping\")\n",
    "\n",
    "# Chemin relatif du fichier\n",
    "chemin_fichier = os.path.join(chemin_repertoire_scrapping, \"data_2_all_movie.json\")\n"
   ]
  },
  {
   "cell_type": "code",
   "execution_count": 12,
   "metadata": {},
   "outputs": [
    {
     "data": {
      "text/plain": [
       "'c:\\\\Users\\\\basma\\\\Desktop\\\\Master 2\\\\semestre 2\\\\Projet_Big_Data2\\\\AppStremlit\\\\pages\\\\Scrapping\\\\data_2_all_movie.json'"
      ]
     },
     "execution_count": 12,
     "metadata": {},
     "output_type": "execute_result"
    }
   ],
   "source": [
    "chemin_fichier"
   ]
  },
  {
   "cell_type": "code",
   "execution_count": 9,
   "metadata": {},
   "outputs": [
    {
     "name": "stdout",
     "output_type": "stream",
     "text": [
      "Chemin relatif: Scrapping\\data_2_all_movie.json\n"
     ]
    }
   ],
   "source": [
    "repertoire_parent = os.path.dirname(os.getcwd())\n",
    "\n",
    "# Nom du répertoire à ajouter\n",
    "nom_repertoire = \"Scrapping\"\n",
    "\n",
    "# Nom du fichier à vérifier\n",
    "nom_fichier = \"data_2_all_movie.json\"\n",
    "\n",
    "# Chemin complet du répertoire \"Scrapping\"\n",
    "chemin_repertoire_scrapping = os.path.join(repertoire_parent, nom_repertoire)\n",
    "\n",
    "# Chemin complet du fichier\n",
    "chemin_fichier = os.path.join(chemin_repertoire_scrapping, nom_fichier)\n",
    "\n",
    "# Chemin relatif par rapport au répertoire principal\n",
    "chemin_relatif = os.path.relpath(chemin_fichier, start=repertoire_parent)\n",
    "\n",
    "print(\"Chemin relatif:\", chemin_relatif)"
   ]
  },
  {
   "cell_type": "code",
   "execution_count": 2,
   "metadata": {},
   "outputs": [],
   "source": [
    "chemin_fichier = \"..\\\\Scrapping\\\\data_2_all_movie.json\"\n",
    "df = pd.read_json(chemin_fichier)"
   ]
  },
  {
   "cell_type": "code",
   "execution_count": 3,
   "metadata": {},
   "outputs": [
    {
     "name": "stdout",
     "output_type": "stream",
     "text": [
      "Répertoire de travail actuel: c:\\Users\\basma\\Desktop\\Master 2\\semestre 2\\Projet_Big_Data2\\AppStremlit\\pages\n"
     ]
    }
   ],
   "source": [
    "import os\n",
    "print(\"Répertoire de travail actuel:\", os.getcwd())"
   ]
  }
 ],
 "metadata": {
  "kernelspec": {
   "display_name": "base",
   "language": "python",
   "name": "python3"
  },
  "language_info": {
   "codemirror_mode": {
    "name": "ipython",
    "version": 3
   },
   "file_extension": ".py",
   "mimetype": "text/x-python",
   "name": "python",
   "nbconvert_exporter": "python",
   "pygments_lexer": "ipython3",
   "version": "3.9.18"
  }
 },
 "nbformat": 4,
 "nbformat_minor": 2
}
